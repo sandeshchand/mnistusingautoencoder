{
  "cells": [
    {
      "cell_type": "markdown",
      "metadata": {
        "id": "view-in-github",
        "colab_type": "text"
      },
      "source": [
        "<a href=\"https://colab.research.google.com/github/sandeshchand/mnistusingautoencoder/blob/main/Mnistusingautoencoder.ipynb\" target=\"_parent\"><img src=\"https://colab.research.google.com/assets/colab-badge.svg\" alt=\"Open In Colab\"/></a>"
      ]
    },
    {
      "cell_type": "markdown",
      "metadata": {
        "id": "ic4Kt8JNzFH4"
      },
      "source": [
        "Module 7: AssignmentLoad the‘MNIST’dataset and perform the following tasks:•Create an autoencoder with convolutional layers•Compare the accuracy of the model with the previous model(without the convolutional layers, that me built in module 7 class).The dataset description is same as the previous modules.\n"
      ]
    },
    {
      "cell_type": "code",
      "execution_count": null,
      "metadata": {
        "id": "Kuwypjuf0tiT"
      },
      "outputs": [],
      "source": [
        "import numpy as np\n",
        "import tensorflow as tf\n",
        "import matplotlib.pyplot as plt\n",
        "from tensorflow.keras.datasets import mnist\n",
        "from tensorflow.keras.layers import Dense,Input,Flatten,\\\n",
        "                                    Reshape,LeakyReLU as LR,\\\n",
        "                                    Activation,Dropout\n",
        "from tensorflow.keras.models import Model,Sequential\n",
        "from IPython import display\n",
        "\n",
        "\n"
      ]
    },
    {
      "cell_type": "code",
      "execution_count": null,
      "metadata": {
        "colab": {
          "base_uri": "https://localhost:8080/"
        },
        "id": "7s1_cbkbBn-Q",
        "outputId": "d4745529-0615-487f-bee6-4f3911580be5"
      },
      "outputs": [
        {
          "name": "stdout",
          "output_type": "stream",
          "text": [
            "Downloading data from https://storage.googleapis.com/tensorflow/tf-keras-datasets/mnist.npz\n",
            "11493376/11490434 [==============================] - 0s 0us/step\n"
          ]
        }
      ],
      "source": [
        "#Load MNist data\n",
        "(X_train,y_train),(X_test,y_test)=mnist.load_data()\n",
        "X_train=X_train/255.0\n",
        "X_test=X_test/255.0\n"
      ]
    },
    {
      "cell_type": "code",
      "execution_count": null,
      "metadata": {
        "colab": {
          "base_uri": "https://localhost:8080/",
          "height": 265
        },
        "id": "EKX5x_WbCDDY",
        "outputId": "d328771b-5027-4125-d585-d0a4113060d8"
      },
      "outputs": [
        {
          "data": {
            "image/png": "[encoded data removed]",
            "text/plain": [
              "<Figure size 432x288 with 1 Axes>"
            ]
          },
          "metadata": {
            "tags": []
          },
          "output_type": "display_data"
        }
      ],
      "source": [
        "#Plot image data from X_train\n",
        "plt.imshow(X_train[0],cmap=\"gray\")\n",
        "plt.show()"
      ]
    },
    {
      "cell_type": "markdown",
      "metadata": {
        "id": "rQzRfS2QCsGx"
      },
      "source": [
        "#Deciding latent size\n",
        "Latent size is the size of the latent space: the vector holding the information after compression. This value is a crucial hyperparameter. If this value is too small, there won’t be enough data for reconstruction and if the value is too large, overfitting can occur."
      ]
    },
    {
      "cell_type": "code",
      "execution_count": null,
      "metadata": {
        "id": "soK0uLWoCi7v"
      },
      "outputs": [],
      "source": [
        "LATENT_SIZE = 32"
      ]
    },
    {
      "cell_type": "markdown",
      "metadata": {
        "id": "xmjotyTOC4Dh"
      },
      "source": [
        "Creating Encoder"
      ]
    },
    {
      "cell_type": "code",
      "execution_count": null,
      "metadata": {
        "id": "QdJApWt6C3WY"
      },
      "outputs": [],
      "source": [
        "encoder=Sequential([\n",
        "                    Flatten(input_shape=(28,28)),\n",
        "                    Dense(512),\n",
        "                    LR(),\n",
        "                    Dropout(0.5),\n",
        "                    Dense(256),\n",
        "                    LR(),\n",
        "                    Dropout(0.5),\n",
        "                    Dense(128),\n",
        "                    LR(),\n",
        "                    Dropout(0.5),\n",
        "                    Dense(64),\n",
        "                    LR(),\n",
        "                    Dropout(0.5),\n",
        "                    Dense(LATENT_SIZE),\n",
        "                    LR()\n",
        "])"
      ]
    },
    {
      "cell_type": "markdown",
      "metadata": {
        "id": "3Oi4YP9ED1GI"
      },
      "source": [
        "Creatinng Decoder"
      ]
    },
    {
      "cell_type": "code",
      "execution_count": null,
      "metadata": {
        "id": "sITUkRX_D0nq"
      },
      "outputs": [],
      "source": [
        "decoder=Sequential([\n",
        "                    Dense(64,input_shape=(LATENT_SIZE,)),\n",
        "                    LR(),\n",
        "                    Dropout(0.5),\n",
        "                    Dense(128),\n",
        "                    LR(),\n",
        "                    Dropout(0.5),\n",
        "                    Dense(256),\n",
        "                    LR(),\n",
        "                    Dropout(0.5),\n",
        "                    Dense(512),\n",
        "                    LR(),\n",
        "                    Dropout(0.5),\n",
        "                    Dense(784),\n",
        "                    Activation(\"sigmoid\"),\n",
        "                    Reshape((28,28))\n",
        "                    \n",
        "])"
      ]
    },
    {
      "cell_type": "markdown",
      "metadata": {
        "id": "j8RImDHOFzCb"
      },
      "source": [
        "Creating model\n",
        "reate a placeholder tensor which we can feed into each network to get the output of the whole model.*italicized text*"
      ]
    },
    {
      "cell_type": "code",
      "execution_count": null,
      "metadata": {
        "id": "xLpZqZ2kFhpN"
      },
      "outputs": [],
      "source": [
        "image=Input(shape=(28,28))\n",
        "latent_vector=encoder(image)\n",
        "output=decoder(latent_vector)\n",
        "\n",
        "model=Model(inputs=image, outputs=output)\n",
        "model.compile(\"nadam\",loss=\"binary_crossentropy\")"
      ]
    },
    {
      "cell_type": "markdown",
      "metadata": {
        "id": "ftXRxWy0GkpT"
      },
      "source": [
        "Training the model"
      ]
    },
    {
      "cell_type": "code",
      "execution_count": null,
      "metadata": {
        "colab": {
          "background_save": true,
          "base_uri": "https://localhost:8080/",
          "height": 282
        },
        "id": "2GhPaLArGjhD",
        "outputId": "4b10bb06-8b4c-4e86-b02b-6a552430c722"
      },
      "outputs": [
        {
          "data": {
            "image/png": "[encoded data removed]",
            "text/plain": [
              "<Figure size 432x288 with 16 Axes>"
            ]
          },
          "metadata": {},
          "output_type": "display_data"
        },
        {
          "name": "stdout",
          "output_type": "stream",
          "text": [
            "-------------- EPOCH 59 -------\n",
            "1875/1875 [==============================] - 48s 26ms/step - loss: 0.1919\n"
          ]
        }
      ],
      "source": [
        "EPOCH= 60\n",
        "for epoch in range(EPOCH):\n",
        "  fig,axes=plt.subplots(4,4)\n",
        "  rand=X_test[np.random.randint(0,10000,16)].reshape(4,4,1,28,28)\n",
        "  display.clear_output()\n",
        "  for i in range(4):\n",
        "    for j in range(4):\n",
        "      axes[i,j].imshow(model.predict(rand[i,j])[0],cmap=\"gray\")\n",
        "      axes[i,j].axis(\"off\")\n",
        "\n",
        "  plt.subplots_adjust(wspace=0 ,hspace=0)\n",
        "  plt.show()\n",
        "  print(\"--------------\",\"EPOCH\",epoch,\"-------\")\n",
        "  model.fit(X_train,X_train)"
      ]
    },
    {
      "cell_type": "code",
      "execution_count": null,
      "metadata": {
        "id": "soEkqMPqFvus"
      },
      "outputs": [],
      "source": []
    }
  ],
  "metadata": {
    "colab": {
      "provenance": [],
      "authorship_tag": "ABX9TyNUmipdnRrYTVNVQyXpp6AS",
      "include_colab_link": true
    },
    "kernelspec": {
      "display_name": "Python 3",
      "name": "python3"
    }
  },
  "nbformat": 4,
  "nbformat_minor": 0
}